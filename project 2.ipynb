{
  "nbformat": 4,
  "nbformat_minor": 0,
  "metadata": {
    "colab": {
      "provenance": []
    },
    "kernelspec": {
      "name": "python3",
      "display_name": "Python 3"
    },
    "language_info": {
      "name": "python"
    }
  },
  "cells": [
    {
      "cell_type": "markdown",
      "source": [
        "Q1.discuss string slicing, and ,provide  example.\n",
        "ans:\n",
        "\n",
        "i) string slicing:stirng slicing in python is about obtaining a sub-string from the given string by slicing it respectively from start to end.\n",
        "\n",
        "\n"
      ],
      "metadata": {
        "id": "z73EM8ZTcO5S"
      }
    },
    {
      "cell_type": "code",
      "source": [
        "# example\n",
        "s = \"swapnil arun bidkar\"\n",
        "print(s[0:10])"
      ],
      "metadata": {
        "colab": {
          "base_uri": "https://localhost:8080/"
        },
        "id": "GohKWU2Kcfyg",
        "outputId": "0999bef2-5502-47c1-ece7-a69c479869b8"
      },
      "execution_count": null,
      "outputs": [
        {
          "output_type": "stream",
          "name": "stdout",
          "text": [
            "swapnil ar\n"
          ]
        }
      ]
    },
    {
      "cell_type": "markdown",
      "source": [
        "Q2.explain the key features of lists in python.\n",
        "ans.\n",
        "\n",
        "\n",
        "i) list: are used to store multiple items in a single variable.\n",
        "\n",
        "ii) list item:list itms are ordered,changeable, and allow duplicate values. list items are indexed , the first item has index[0], the second item has index [1]etc.\n",
        "\n",
        " iii) ordered:when we say that lists are ordered, it means that the items have a defined order, and that order will not change,\n",
        "\n",
        " if you add new items to a list, the new items will be placed at the end of the list.\n",
        "\n",
        "\n",
        "\n",
        "\n",
        "iv) list allow duplicates value\n",
        "\n"
      ],
      "metadata": {
        "id": "-dshnwC0fMAf"
      }
    },
    {
      "cell_type": "code",
      "source": [
        "# iv)example\n",
        "s = ['m',s,5,6,6,6,6,6,6,6,3,]\n",
        "print(s)"
      ],
      "metadata": {
        "colab": {
          "base_uri": "https://localhost:8080/"
        },
        "id": "toFDJ5pojaou",
        "outputId": "fe08a5ef-c4a6-42f9-babf-b3a8cac0783a"
      },
      "execution_count": null,
      "outputs": [
        {
          "output_type": "stream",
          "name": "stdout",
          "text": [
            "['m', ['m', 'swapnil arun bidkar', 5, 7, 3], 5, 6, 6, 6, 6, 6, 6, 6, 3]\n"
          ]
        }
      ]
    },
    {
      "cell_type": "markdown",
      "source": [
        "v) list length : to determine how many items a list has, use the len()function:\n"
      ],
      "metadata": {
        "id": "h1xUiDq7kAsS"
      }
    },
    {
      "cell_type": "code",
      "source": [
        " s = ['m',s,5,6,6,6,6,6,6,6,3,]\n",
        "print(len(s))"
      ],
      "metadata": {
        "colab": {
          "base_uri": "https://localhost:8080/"
        },
        "id": "vIW6DCy3km9D",
        "outputId": "12e311e0-fd83-4272-c68d-ce842b995ac0"
      },
      "execution_count": null,
      "outputs": [
        {
          "output_type": "stream",
          "name": "stdout",
          "text": [
            "11\n"
          ]
        }
      ]
    },
    {
      "cell_type": "markdown",
      "source": [
        "vi) list can contain different data types:\n",
        "example\n",
        "a list with strings, integers and boolan values:"
      ],
      "metadata": {
        "id": "QJt8vYSWkxGY"
      }
    },
    {
      "cell_type": "code",
      "source": [
        "s = [\"swapninl\",5,True]\n",
        "s"
      ],
      "metadata": {
        "colab": {
          "base_uri": "https://localhost:8080/"
        },
        "id": "7HHGODNatlZ7",
        "outputId": "f948fdf7-65bf-47d7-fc7d-cfbd2f280d1b"
      },
      "execution_count": null,
      "outputs": [
        {
          "output_type": "execute_result",
          "data": {
            "text/plain": [
              "['swapninl', 5, True]"
            ]
          },
          "metadata": {},
          "execution_count": 7
        }
      ]
    },
    {
      "cell_type": "markdown",
      "source": [],
      "metadata": {
        "id": "w7UPCNUxjMbO"
      }
    },
    {
      "cell_type": "markdown",
      "source": [],
      "metadata": {
        "id": "xnMGfHErszNl"
      }
    },
    {
      "cell_type": "markdown",
      "source": [
        "vii)  sort : with this function we can sort list elements in ascending and decending order\n"
      ],
      "metadata": {
        "id": "sBnEG2yDuQQc"
      }
    },
    {
      "cell_type": "code",
      "source": [
        "#example\n",
        "s = [\"swapnil\", \"arun\", \"bidkar\"]\n",
        "s.sort()\n",
        "print(s)"
      ],
      "metadata": {
        "colab": {
          "base_uri": "https://localhost:8080/"
        },
        "id": "G_gJrx3vuYAJ",
        "outputId": "a6b40fb5-43d7-4a91-bba0-c1ccf540a54f"
      },
      "execution_count": null,
      "outputs": [
        {
          "output_type": "stream",
          "name": "stdout",
          "text": [
            "['arun', 'bidkar', 'swapnil']\n"
          ]
        }
      ]
    },
    {
      "cell_type": "markdown",
      "source": [
        "viii) append : with this functoin we can add new element in list."
      ],
      "metadata": {
        "id": "HdzofKQqu2Md"
      }
    },
    {
      "cell_type": "code",
      "source": [
        "# example\n",
        "s = [\"swapnil\", \"arun\", \"bidkar\"]\n",
        "s.append(\"kunal\")\n",
        "print(s)"
      ],
      "metadata": {
        "colab": {
          "base_uri": "https://localhost:8080/"
        },
        "id": "-oKd60kou0sI",
        "outputId": "02ffdfff-0dc1-4c6b-bcb6-253fce8b5df4"
      },
      "execution_count": null,
      "outputs": [
        {
          "output_type": "stream",
          "name": "stdout",
          "text": [
            "['swapnil', 'arun', 'bidkar', 'kunal']\n"
          ]
        }
      ]
    },
    {
      "cell_type": "markdown",
      "source": [
        "ix) remove : with this function we can remove element form list\n"
      ],
      "metadata": {
        "id": "rW9hx8pDvUOf"
      }
    },
    {
      "cell_type": "code",
      "source": [
        "s = [\"swapnil\", \"arun\", \"bidkar\"]\n",
        "s.remove(\"swapnil\")\n",
        "print(s)"
      ],
      "metadata": {
        "colab": {
          "base_uri": "https://localhost:8080/"
        },
        "id": "p0N0QX66vhX1",
        "outputId": "08bf81c4-7f4b-446a-9aa6-4015b9fca38e"
      },
      "execution_count": null,
      "outputs": [
        {
          "output_type": "stream",
          "name": "stdout",
          "text": [
            "['arun', 'bidkar']\n"
          ]
        }
      ]
    },
    {
      "cell_type": "markdown",
      "source": [
        "x) insert : with this function we can add new element in list where we want.\n"
      ],
      "metadata": {
        "id": "hf0tw2XIvoWk"
      }
    },
    {
      "cell_type": "code",
      "source": [
        "#example\n",
        "s = [\"swapnil\", \"arun\", \"bidkar\"]\n",
        "s.insert(2,\"kunal\")\n",
        "print(s)"
      ],
      "metadata": {
        "colab": {
          "base_uri": "https://localhost:8080/"
        },
        "id": "Zk78VsvEwOsw",
        "outputId": "1bc4422b-d497-494c-a76b-247992b3c32a"
      },
      "execution_count": null,
      "outputs": [
        {
          "output_type": "stream",
          "name": "stdout",
          "text": [
            "['swapnil', 'arun', 'kunal', 'bidkar']\n"
          ]
        }
      ]
    },
    {
      "cell_type": "markdown",
      "source": [
        "Q3.describe how to access,modify,and delete elements in a list with examples.\n",
        "ans:\n",
        "\n",
        "i) how to access element in list.\n",
        "\n",
        "\n",
        "in python list elements are orered by index. a number refering to their placement in the list. list indices start at 0 and increment by one . to access a list element by index,square bracket notation is used: list[index].\n",
        "\n"
      ],
      "metadata": {
        "id": "2J4_pvDhwXY8"
      }
    },
    {
      "cell_type": "code",
      "source": [
        "s = [\"swapnil\", \"arun\", \"bidkar\"]\n",
        "print(s[2])"
      ],
      "metadata": {
        "colab": {
          "base_uri": "https://localhost:8080/"
        },
        "id": "cl7Sa19Nx9X4",
        "outputId": "6a2ae946-0621-4934-cd28-d3614261898f"
      },
      "execution_count": null,
      "outputs": [
        {
          "output_type": "stream",
          "name": "stdout",
          "text": [
            "bidkar\n"
          ]
        }
      ]
    },
    {
      "cell_type": "markdown",
      "source": [
        "ii) how to modify element in  list.\n",
        "\n",
        "we use indexing method for modifying list. by this method we can chanege existing element with new element.\n",
        "\n",
        "\n",
        "\n"
      ],
      "metadata": {
        "id": "19K9BWvVyQOr"
      }
    },
    {
      "cell_type": "code",
      "source": [
        "# example\n",
        "s = [\"swapnil\", \"arun\", \"bidkar\"]\n",
        "s[0] = \"kunal\"\n",
        "print(s)"
      ],
      "metadata": {
        "colab": {
          "base_uri": "https://localhost:8080/"
        },
        "id": "Jb0F7Q9EzemB",
        "outputId": "ec69eb23-8857-480f-cbb2-10db9e58e4ba"
      },
      "execution_count": null,
      "outputs": [
        {
          "output_type": "stream",
          "name": "stdout",
          "text": [
            "['kunal', 'arun', 'bidkar']\n"
          ]
        }
      ]
    },
    {
      "cell_type": "markdown",
      "source": [
        "iii) how to delet element from string.\n",
        "\n",
        "del is used to delet any element from list.\n",
        "\n",
        "we can do it by del keyword of the pop() function .\n",
        "\n"
      ],
      "metadata": {
        "id": "J9Ruib-lznFj"
      }
    },
    {
      "cell_type": "code",
      "source": [
        "#example\n",
        "s = [\"swapnil\", \"arun\", \"bidkar\"]\n",
        "del s[2]\n",
        "print(s)"
      ],
      "metadata": {
        "colab": {
          "base_uri": "https://localhost:8080/"
        },
        "id": "c9t2x0NE0kpX",
        "outputId": "33bf93ed-2884-4746-fd93-3dac5eeda9b3"
      },
      "execution_count": null,
      "outputs": [
        {
          "output_type": "stream",
          "name": "stdout",
          "text": [
            "['swapnil', 'arun']\n"
          ]
        }
      ]
    },
    {
      "cell_type": "code",
      "source": [
        "s = [\"swapnil\",\"arun\",\"bidkar\"]\n",
        "s.pop(1)\n",
        "print(s)"
      ],
      "metadata": {
        "colab": {
          "base_uri": "https://localhost:8080/"
        },
        "id": "-tixubE20reb",
        "outputId": "c80d3e4d-51d7-494d-9007-b46e7f20296b"
      },
      "execution_count": null,
      "outputs": [
        {
          "output_type": "stream",
          "name": "stdout",
          "text": [
            "['swapnil', 'bidkar']\n"
          ]
        }
      ]
    },
    {
      "cell_type": "markdown",
      "source": [
        "Q4.compare and contrast tuples and lists with examples.\n",
        "\n",
        "\n",
        "list vs tuple\n",
        "\n",
        "1)we can modify list element , but we can do it in nature.\n",
        "\n",
        "for example\n",
        "\n"
      ],
      "metadata": {
        "id": "VKhsZD_F1Emf"
      }
    },
    {
      "cell_type": "code",
      "source": [
        "# example\n",
        "s = [\"swapnil\", \"arun\", \"bidkar\"]\n",
        "s[0] = \"kunal\"\n",
        "print(s)"
      ],
      "metadata": {
        "colab": {
          "base_uri": "https://localhost:8080/"
        },
        "id": "Ut8FG3CO2hBb",
        "outputId": "8d078027-855b-41eb-b092-bca7b6e06387"
      },
      "execution_count": null,
      "outputs": [
        {
          "output_type": "stream",
          "name": "stdout",
          "text": [
            "['kunal', 'arun', 'bidkar']\n"
          ]
        }
      ]
    },
    {
      "cell_type": "code",
      "source": [
        "s = ( \"swapnil\", \"arun\", \"bidkar\")\n",
        "s.[0] = (\"kunal\")\n",
        "print(s)"
      ],
      "metadata": {
        "colab": {
          "base_uri": "https://localhost:8080/",
          "height": 106
        },
        "id": "rrWZAEZG3Hts",
        "outputId": "74139c4b-d853-4b49-acc9-246803d1e99f"
      },
      "execution_count": 9,
      "outputs": [
        {
          "output_type": "error",
          "ename": "SyntaxError",
          "evalue": "invalid syntax (<ipython-input-9-ce25b2814051>, line 2)",
          "traceback": [
            "\u001b[0;36m  File \u001b[0;32m\"<ipython-input-9-ce25b2814051>\"\u001b[0;36m, line \u001b[0;32m2\u001b[0m\n\u001b[0;31m    s.[0] = (\"kunal\")\u001b[0m\n\u001b[0m      ^\u001b[0m\n\u001b[0;31mSyntaxError\u001b[0m\u001b[0;31m:\u001b[0m invalid syntax\n"
          ]
        }
      ]
    },
    {
      "cell_type": "markdown",
      "source": [
        "ii) we can del list , but we can not do in tuple.\n",
        "\n",
        "example\n"
      ],
      "metadata": {
        "id": "nO2bjQqYVKnY"
      }
    },
    {
      "cell_type": "code",
      "source": [
        "s = [ \"swapnil\", \"arun\", \"bidkar\"]\n",
        "del s[2]\n",
        "print(s)"
      ],
      "metadata": {
        "colab": {
          "base_uri": "https://localhost:8080/"
        },
        "id": "dc4KxBWLVXHW",
        "outputId": "047c0cfe-7801-4260-fedf-5b423b626deb"
      },
      "execution_count": 1,
      "outputs": [
        {
          "output_type": "stream",
          "name": "stdout",
          "text": [
            "['swapnil', 'arun']\n"
          ]
        }
      ]
    },
    {
      "cell_type": "code",
      "source": [
        "s = ( \"swapnil\",\"RUN\", \"NT\",)\n",
        "del s[2]\n",
        "print(s)"
      ],
      "metadata": {
        "colab": {
          "base_uri": "https://localhost:8080/",
          "height": 176
        },
        "id": "vHL8Cn6VViPu",
        "outputId": "581a4058-4b30-4000-d354-6c8d0a570ce3"
      },
      "execution_count": 2,
      "outputs": [
        {
          "output_type": "error",
          "ename": "TypeError",
          "evalue": "'tuple' object doesn't support item deletion",
          "traceback": [
            "\u001b[0;31m---------------------------------------------------------------------------\u001b[0m",
            "\u001b[0;31mTypeError\u001b[0m                                 Traceback (most recent call last)",
            "\u001b[0;32m<ipython-input-2-93bde1b4bb0f>\u001b[0m in \u001b[0;36m<cell line: 2>\u001b[0;34m()\u001b[0m\n\u001b[1;32m      1\u001b[0m \u001b[0ms\u001b[0m \u001b[0;34m=\u001b[0m \u001b[0;34m(\u001b[0m \u001b[0;34m\"swapnil\"\u001b[0m\u001b[0;34m,\u001b[0m\u001b[0;34m\"RUN\"\u001b[0m\u001b[0;34m,\u001b[0m \u001b[0;34m\"NT\"\u001b[0m\u001b[0;34m,\u001b[0m\u001b[0;34m)\u001b[0m\u001b[0;34m\u001b[0m\u001b[0;34m\u001b[0m\u001b[0m\n\u001b[0;32m----> 2\u001b[0;31m \u001b[0;32mdel\u001b[0m \u001b[0ms\u001b[0m\u001b[0;34m[\u001b[0m\u001b[0;36m2\u001b[0m\u001b[0;34m]\u001b[0m\u001b[0;34m\u001b[0m\u001b[0;34m\u001b[0m\u001b[0m\n\u001b[0m\u001b[1;32m      3\u001b[0m \u001b[0mprint\u001b[0m\u001b[0;34m(\u001b[0m\u001b[0ms\u001b[0m\u001b[0;34m)\u001b[0m\u001b[0;34m\u001b[0m\u001b[0;34m\u001b[0m\u001b[0m\n",
            "\u001b[0;31mTypeError\u001b[0m: 'tuple' object doesn't support item deletion"
          ]
        }
      ]
    },
    {
      "cell_type": "markdown",
      "source": [
        "iii) we can insert new element in list ,but we can do it in tuple.\n",
        "for example."
      ],
      "metadata": {
        "id": "hRB_hTtcWGHM"
      }
    },
    {
      "cell_type": "code",
      "source": [
        "s = [ \"swpanil\",\"arun\",\"bidkar\"]\n",
        "s.insert(2,\"kunal\")\n",
        "print(s)"
      ],
      "metadata": {
        "colab": {
          "base_uri": "https://localhost:8080/"
        },
        "id": "VB5ZrLM2WTYt",
        "outputId": "fda27ac9-94b2-4694-c939-1ea45b42a863"
      },
      "execution_count": 3,
      "outputs": [
        {
          "output_type": "stream",
          "name": "stdout",
          "text": [
            "['swpanil', 'arun', 'kunal', 'bidkar']\n"
          ]
        }
      ]
    },
    {
      "cell_type": "code",
      "source": [
        "s = ( \"swapnil\", \"arun\", \"bidkar\")\n",
        "s.insert(2,\"kunal\")\n",
        "print(s)"
      ],
      "metadata": {
        "colab": {
          "base_uri": "https://localhost:8080/",
          "height": 176
        },
        "id": "kphpJPDrWjNk",
        "outputId": "3e00546b-bf18-417d-f3f5-273790e97d36"
      },
      "execution_count": 4,
      "outputs": [
        {
          "output_type": "error",
          "ename": "AttributeError",
          "evalue": "'tuple' object has no attribute 'insert'",
          "traceback": [
            "\u001b[0;31m---------------------------------------------------------------------------\u001b[0m",
            "\u001b[0;31mAttributeError\u001b[0m                            Traceback (most recent call last)",
            "\u001b[0;32m<ipython-input-4-73393e1adc8b>\u001b[0m in \u001b[0;36m<cell line: 2>\u001b[0;34m()\u001b[0m\n\u001b[1;32m      1\u001b[0m \u001b[0ms\u001b[0m \u001b[0;34m=\u001b[0m \u001b[0;34m(\u001b[0m \u001b[0;34m\"swapnil\"\u001b[0m\u001b[0;34m,\u001b[0m \u001b[0;34m\"arun\"\u001b[0m\u001b[0;34m,\u001b[0m \u001b[0;34m\"bidkar\"\u001b[0m\u001b[0;34m)\u001b[0m\u001b[0;34m\u001b[0m\u001b[0;34m\u001b[0m\u001b[0m\n\u001b[0;32m----> 2\u001b[0;31m \u001b[0ms\u001b[0m\u001b[0;34m.\u001b[0m\u001b[0minsert\u001b[0m\u001b[0;34m(\u001b[0m\u001b[0;36m2\u001b[0m\u001b[0;34m,\u001b[0m\u001b[0;34m\"kunal\"\u001b[0m\u001b[0;34m)\u001b[0m\u001b[0;34m\u001b[0m\u001b[0;34m\u001b[0m\u001b[0m\n\u001b[0m\u001b[1;32m      3\u001b[0m \u001b[0mprint\u001b[0m\u001b[0;34m(\u001b[0m\u001b[0ms\u001b[0m\u001b[0;34m)\u001b[0m\u001b[0;34m\u001b[0m\u001b[0;34m\u001b[0m\u001b[0m\n",
            "\u001b[0;31mAttributeError\u001b[0m: 'tuple' object has no attribute 'insert'"
          ]
        }
      ]
    },
    {
      "cell_type": "markdown",
      "source": [
        "iv) we can append list but , we can not do it in tuple.\n",
        "for example.\n"
      ],
      "metadata": {
        "id": "hHUCnuSmWvD-"
      }
    },
    {
      "cell_type": "code",
      "source": [
        "s = [ \"swapnil\", \"arun\", \"bidkar\"]\n",
        "s.append(\"kunal\")\n",
        "print(s)"
      ],
      "metadata": {
        "colab": {
          "base_uri": "https://localhost:8080/"
        },
        "id": "lZmrVJFlXEXB",
        "outputId": "9c72fdae-212d-4e12-b0dc-0cadf51631f6"
      },
      "execution_count": 7,
      "outputs": [
        {
          "output_type": "stream",
          "name": "stdout",
          "text": [
            "['swapnil', 'arun', 'bidkar', 'kunal']\n"
          ]
        }
      ]
    },
    {
      "cell_type": "code",
      "source": [
        "s = ( \"swapnil\", \"arun\", \"bidkar\")\n",
        "s.append(\"kunal\")\n",
        "print(s)"
      ],
      "metadata": {
        "colab": {
          "base_uri": "https://localhost:8080/",
          "height": 176
        },
        "id": "ULob-8pwXJKA",
        "outputId": "e4cb9a56-2f9e-4ef2-89bd-a319cd3d2564"
      },
      "execution_count": 8,
      "outputs": [
        {
          "output_type": "error",
          "ename": "AttributeError",
          "evalue": "'tuple' object has no attribute 'append'",
          "traceback": [
            "\u001b[0;31m---------------------------------------------------------------------------\u001b[0m",
            "\u001b[0;31mAttributeError\u001b[0m                            Traceback (most recent call last)",
            "\u001b[0;32m<ipython-input-8-0a57eb80538c>\u001b[0m in \u001b[0;36m<cell line: 2>\u001b[0;34m()\u001b[0m\n\u001b[1;32m      1\u001b[0m \u001b[0ms\u001b[0m \u001b[0;34m=\u001b[0m \u001b[0;34m(\u001b[0m \u001b[0;34m\"swapnil\"\u001b[0m\u001b[0;34m,\u001b[0m \u001b[0;34m\"arun\"\u001b[0m\u001b[0;34m,\u001b[0m \u001b[0;34m\"bidkar\"\u001b[0m\u001b[0;34m)\u001b[0m\u001b[0;34m\u001b[0m\u001b[0;34m\u001b[0m\u001b[0m\n\u001b[0;32m----> 2\u001b[0;31m \u001b[0ms\u001b[0m\u001b[0;34m.\u001b[0m\u001b[0mappend\u001b[0m\u001b[0;34m(\u001b[0m\u001b[0;34m\"kunal\"\u001b[0m\u001b[0;34m)\u001b[0m\u001b[0;34m\u001b[0m\u001b[0;34m\u001b[0m\u001b[0m\n\u001b[0m\u001b[1;32m      3\u001b[0m \u001b[0mprint\u001b[0m\u001b[0;34m(\u001b[0m\u001b[0ms\u001b[0m\u001b[0;34m)\u001b[0m\u001b[0;34m\u001b[0m\u001b[0;34m\u001b[0m\u001b[0m\n",
            "\u001b[0;31mAttributeError\u001b[0m: 'tuple' object has no attribute 'append'"
          ]
        }
      ]
    },
    {
      "cell_type": "markdown",
      "source": [
        "v) we can sort list but, we can not do it in tuple.\n",
        "for example.\n",
        "\n"
      ],
      "metadata": {
        "id": "YYKezlYdYZD-"
      }
    },
    {
      "cell_type": "code",
      "source": [
        "s = [\"swapnil\", \"arun\", \"bidkar\"]\n",
        "s.sort()\n",
        "print(s)"
      ],
      "metadata": {
        "colab": {
          "base_uri": "https://localhost:8080/"
        },
        "id": "62FkFRtLYhnY",
        "outputId": "00a073ed-f6d2-4e85-eaed-db35a31c2ed0"
      },
      "execution_count": 10,
      "outputs": [
        {
          "output_type": "stream",
          "name": "stdout",
          "text": [
            "['arun', 'bidkar', 'swapnil']\n"
          ]
        }
      ]
    },
    {
      "cell_type": "code",
      "source": [
        "s = ( \"swapnil\", \"arun\", \"bidkar\")\n",
        "s.sort()\n",
        "print(s)"
      ],
      "metadata": {
        "colab": {
          "base_uri": "https://localhost:8080/",
          "height": 176
        },
        "id": "MuJbtRVZYvSY",
        "outputId": "b0aefd5d-b354-4c51-b072-cd4411972f5b"
      },
      "execution_count": 11,
      "outputs": [
        {
          "output_type": "error",
          "ename": "AttributeError",
          "evalue": "'tuple' object has no attribute 'sort'",
          "traceback": [
            "\u001b[0;31m---------------------------------------------------------------------------\u001b[0m",
            "\u001b[0;31mAttributeError\u001b[0m                            Traceback (most recent call last)",
            "\u001b[0;32m<ipython-input-11-d7fe4e6d9b4b>\u001b[0m in \u001b[0;36m<cell line: 2>\u001b[0;34m()\u001b[0m\n\u001b[1;32m      1\u001b[0m \u001b[0ms\u001b[0m \u001b[0;34m=\u001b[0m \u001b[0;34m(\u001b[0m \u001b[0;34m\"swapnil\"\u001b[0m\u001b[0;34m,\u001b[0m \u001b[0;34m\"arun\"\u001b[0m\u001b[0;34m,\u001b[0m \u001b[0;34m\"bidkar\"\u001b[0m\u001b[0;34m)\u001b[0m\u001b[0;34m\u001b[0m\u001b[0;34m\u001b[0m\u001b[0m\n\u001b[0;32m----> 2\u001b[0;31m \u001b[0ms\u001b[0m\u001b[0;34m.\u001b[0m\u001b[0msort\u001b[0m\u001b[0;34m(\u001b[0m\u001b[0;34m)\u001b[0m\u001b[0;34m\u001b[0m\u001b[0;34m\u001b[0m\u001b[0m\n\u001b[0m\u001b[1;32m      3\u001b[0m \u001b[0mprint\u001b[0m\u001b[0;34m(\u001b[0m\u001b[0ms\u001b[0m\u001b[0;34m)\u001b[0m\u001b[0;34m\u001b[0m\u001b[0;34m\u001b[0m\u001b[0m\n",
            "\u001b[0;31mAttributeError\u001b[0m: 'tuple' object has no attribute 'sort'"
          ]
        }
      ]
    },
    {
      "cell_type": "markdown",
      "source": [
        "Q5.describe the key feature of sets  and provide example of their use.\n",
        "\n",
        "ans: a set in python programming is an unordered collection data type that is iterable, mutable and has no duplicate elements.\n",
        "\n",
        "key feature of set.\n",
        "\n",
        "\n",
        "1) python set cannot have duplicate value and once it is created we cannot modify its value."
      ],
      "metadata": {
        "id": "wkyBsdLmY9Em"
      }
    },
    {
      "cell_type": "code",
      "source": [
        "s = {\"swapnil\", \"arun\", \"bidkar\",\"swapnil\"}\n",
        "print(s)"
      ],
      "metadata": {
        "colab": {
          "base_uri": "https://localhost:8080/"
        },
        "id": "ZeufQKRLbhKw",
        "outputId": "c977d68b-633c-4abe-ca67-809b18fcb269"
      },
      "execution_count": 12,
      "outputs": [
        {
          "output_type": "stream",
          "name": "stdout",
          "text": [
            "{'swapnil', 'bidkar', 'arun'}\n"
          ]
        }
      ]
    },
    {
      "cell_type": "code",
      "source": [
        "s = {\"swapnil\", \"arun\", \"bidkar\",\"swapnil\"}\n",
        "s[0] = \"kunal\"\n",
        "print(s)"
      ],
      "metadata": {
        "colab": {
          "base_uri": "https://localhost:8080/",
          "height": 176
        },
        "id": "zjDlj9Vpbo6F",
        "outputId": "7148f916-cf60-4939-acb5-8bd0df8bcc48"
      },
      "execution_count": 13,
      "outputs": [
        {
          "output_type": "error",
          "ename": "TypeError",
          "evalue": "'set' object does not support item assignment",
          "traceback": [
            "\u001b[0;31m---------------------------------------------------------------------------\u001b[0m",
            "\u001b[0;31mTypeError\u001b[0m                                 Traceback (most recent call last)",
            "\u001b[0;32m<ipython-input-13-3a3edb79a77d>\u001b[0m in \u001b[0;36m<cell line: 2>\u001b[0;34m()\u001b[0m\n\u001b[1;32m      1\u001b[0m \u001b[0ms\u001b[0m \u001b[0;34m=\u001b[0m \u001b[0;34m{\u001b[0m\u001b[0;34m\"swapnil\"\u001b[0m\u001b[0;34m,\u001b[0m \u001b[0;34m\"arun\"\u001b[0m\u001b[0;34m,\u001b[0m \u001b[0;34m\"bidkar\"\u001b[0m\u001b[0;34m,\u001b[0m\u001b[0;34m\"swapnil\"\u001b[0m\u001b[0;34m}\u001b[0m\u001b[0;34m\u001b[0m\u001b[0;34m\u001b[0m\u001b[0m\n\u001b[0;32m----> 2\u001b[0;31m \u001b[0ms\u001b[0m\u001b[0;34m[\u001b[0m\u001b[0;36m0\u001b[0m\u001b[0;34m]\u001b[0m \u001b[0;34m=\u001b[0m \u001b[0;34m\"kunal\"\u001b[0m\u001b[0;34m\u001b[0m\u001b[0;34m\u001b[0m\u001b[0m\n\u001b[0m\u001b[1;32m      3\u001b[0m \u001b[0mprint\u001b[0m\u001b[0;34m(\u001b[0m\u001b[0ms\u001b[0m\u001b[0;34m)\u001b[0m\u001b[0;34m\u001b[0m\u001b[0;34m\u001b[0m\u001b[0m\n",
            "\u001b[0;31mTypeError\u001b[0m: 'set' object does not support item assignment"
          ]
        }
      ]
    },
    {
      "cell_type": "markdown",
      "source": [
        "2) python set can store heterogenous elements in it."
      ],
      "metadata": {
        "id": "p9_90KJTb8Vy"
      }
    },
    {
      "cell_type": "code",
      "source": [
        "s = {\"swapnil\", \"arun\", \"bidkar\",5,True}\n",
        "print(s)"
      ],
      "metadata": {
        "colab": {
          "base_uri": "https://localhost:8080/"
        },
        "id": "5WTkyImNb7sH",
        "outputId": "51609ae9-77e5-411e-e758-3c8b080cfb9a"
      },
      "execution_count": 14,
      "outputs": [
        {
          "output_type": "stream",
          "name": "stdout",
          "text": [
            "{True, 'swapnil', 5, 'arun', 'bidkar'}\n"
          ]
        }
      ]
    },
    {
      "cell_type": "markdown",
      "source": [
        "3) we can add new element in set ,it is done thorugh the set.add() function.\n"
      ],
      "metadata": {
        "id": "e9rwvvkTcVdm"
      }
    },
    {
      "cell_type": "code",
      "source": [
        "s = {\"swapnil\", \"arun\", \"bidkar\"}\n",
        "s.add(\"kunal\")\n",
        "print(s)"
      ],
      "metadata": {
        "colab": {
          "base_uri": "https://localhost:8080/"
        },
        "id": "zoVlL4TPc0q9",
        "outputId": "5e6ed614-c9a6-4736-9a3b-eea6b0e10766"
      },
      "execution_count": 15,
      "outputs": [
        {
          "output_type": "stream",
          "name": "stdout",
          "text": [
            "{'swapnil', 'bidkar', 'kunal', 'arun'}\n"
          ]
        }
      ]
    },
    {
      "cell_type": "markdown",
      "source": [
        "4) we can merge 2 sets by using union() funciton or|operator.\n",
        "union means we do not taking duplicate of elements in new set.\n"
      ],
      "metadata": {
        "id": "SD9vI7MDc44A"
      }
    },
    {
      "cell_type": "code",
      "source": [
        "s = {\"swapnil\", \"arun\", \"bidkar\"}\n",
        "s1 = {\"kunal\",\"swapnil\"}\n",
        "s2 = s.union(s1)\n",
        "print(s2)"
      ],
      "metadata": {
        "colab": {
          "base_uri": "https://localhost:8080/"
        },
        "id": "S9JpPNd3dyxG",
        "outputId": "b4f36c90-5b3f-427c-94c3-48e50cc7ef8f"
      },
      "execution_count": 16,
      "outputs": [
        {
          "output_type": "stream",
          "name": "stdout",
          "text": [
            "{'bidkar', 'arun', 'kunal', 'swapnil'}\n"
          ]
        }
      ]
    },
    {
      "cell_type": "code",
      "source": [
        "s = {\"swapnil\", \"arun\", \"bidkar\"}\n",
        "s1 = {\"kunal\",\"swapnil\"}\n",
        "s2 = s | s1\n",
        "print(s2)"
      ],
      "metadata": {
        "colab": {
          "base_uri": "https://localhost:8080/"
        },
        "id": "mBq3EB7nd8eq",
        "outputId": "2bb7d874-dae5-4914-8c12-f284deceb693"
      },
      "execution_count": 17,
      "outputs": [
        {
          "output_type": "stream",
          "name": "stdout",
          "text": [
            "{'bidkar', 'arun', 'kunal', 'swapnil'}\n"
          ]
        }
      ]
    },
    {
      "cell_type": "markdown",
      "source": [
        "5) we can get common element by using & function.\n",
        "\n",
        "intersection means we take common element from both sets."
      ],
      "metadata": {
        "id": "Syz-FeLIeKbn"
      }
    },
    {
      "cell_type": "code",
      "source": [
        "s = { \"swapnil\", \"arun\", \"bidkar\"}\n",
        "s1 = {\"kunal\",\"swapnil\"}\n",
        "s2 = s & s1\n",
        "print(s2)"
      ],
      "metadata": {
        "colab": {
          "base_uri": "https://localhost:8080/"
        },
        "id": "GVm0ZpFWeag4",
        "outputId": "2f6b76d7-1c99-4983-a2d8-1c2f5b5a0816"
      },
      "execution_count": 19,
      "outputs": [
        {
          "output_type": "stream",
          "name": "stdout",
          "text": [
            "{'swapnil'}\n"
          ]
        }
      ]
    },
    {
      "cell_type": "markdown",
      "source": [
        "6) we can find difference in sets by using differene() or - operator.\n",
        "difference means we print that elements which are present in set a but not in set b"
      ],
      "metadata": {
        "id": "qpwh_QNWevXB"
      }
    },
    {
      "cell_type": "code",
      "source": [
        "s = {\"swapnil\", \"arun\", \"bidkar\"}\n",
        "s1 = {\"kunal\",\"swapnil\"}\n",
        "s2 = s.difference(s1)\n",
        "print(s2)"
      ],
      "metadata": {
        "colab": {
          "base_uri": "https://localhost:8080/"
        },
        "id": "La2mtItLemWM",
        "outputId": "2ee9f058-077c-4101-9b69-f04b82dabc5e"
      },
      "execution_count": 20,
      "outputs": [
        {
          "output_type": "stream",
          "name": "stdout",
          "text": [
            "{'bidkar', 'arun'}\n"
          ]
        }
      ]
    },
    {
      "cell_type": "markdown",
      "source": [
        "7) we can find symmetric difference of sets by using set_A.symmetric_difference(set_B).\n",
        "symmetric difference means the element present in set a or but but not common in both sets.\n"
      ],
      "metadata": {
        "id": "hm_Sj1pIfSHy"
      }
    },
    {
      "cell_type": "markdown",
      "source": [],
      "metadata": {
        "id": "Lf4LwP6Xe_SB"
      }
    },
    {
      "cell_type": "code",
      "source": [
        "s = {\"swapnil\", \"arun\", \"bidkar\"}\n",
        "s1 = {\"kunal\",\"swapnil\"}\n",
        "s2 = s.symmetric_difference(s1)\n",
        "print(s2)"
      ],
      "metadata": {
        "colab": {
          "base_uri": "https://localhost:8080/"
        },
        "id": "7CITwMm0f5O5",
        "outputId": "7bd6c228-2a47-48e1-b88b-07778a923249"
      },
      "execution_count": 21,
      "outputs": [
        {
          "output_type": "stream",
          "name": "stdout",
          "text": [
            "{'bidkar', 'arun', 'kunal'}\n"
          ]
        }
      ]
    },
    {
      "cell_type": "markdown",
      "source": [
        "Q6.discuss the use cases of tuples and sets in python programming.\n",
        "\n",
        "1) tuple : if we need an immutabole collection of date where elements won't change after creation.tuples are generally faster and more memory-efficient than lists, making them better for fixed collecions,as dictionary keys or when iteratoin speed in crucial.\n",
        "\n"
      ],
      "metadata": {
        "id": "6oU2L9DjhB_e"
      }
    },
    {
      "cell_type": "code",
      "source": [
        "# example\n",
        "school_id_card = (1,2,3,4,5,6,7,8,9,10,11,12,13,14,15,16,17,18,19,20)\n",
        "print(school_id_card)"
      ],
      "metadata": {
        "colab": {
          "base_uri": "https://localhost:8080/"
        },
        "id": "MAZhPQFxjjvA",
        "outputId": "a4920f3b-9584-4b83-c42a-6d581b8bfc3a"
      },
      "execution_count": 22,
      "outputs": [
        {
          "output_type": "stream",
          "name": "stdout",
          "text": [
            "(1, 2, 3, 4, 5, 6, 7, 8, 9, 10, 11, 12, 13, 14, 15, 16, 17, 18, 19, 20)\n"
          ]
        }
      ]
    },
    {
      "cell_type": "markdown",
      "source": [
        "2) use case of set\n",
        "\n",
        "\n",
        "i) removing dulicates: one of the most common use cases of set is to remove duplicates from a list .\n",
        "\n",
        "ii) membership testing: set is effiient for membership testing\n",
        "\n",
        "\n",
        "iii)  storing hashable elements: since sets only contain hashable elements,\n",
        "they are useful when we need to store a collection of unique hashable elements.\n",
        "\n",
        "\n",
        "\n",
        "\n",
        "\n"
      ],
      "metadata": {
        "id": "EOjHSlAcnn1R"
      }
    },
    {
      "cell_type": "code",
      "source": [
        "#example of i) first use case\n",
        "s = {\"swapnil\", True, 59,\"swapnil\"}\n",
        "s1 = set(s)\n",
        "print(s1)\n",
        "\n"
      ],
      "metadata": {
        "colab": {
          "base_uri": "https://localhost:8080/"
        },
        "id": "6-WTByshpV9C",
        "outputId": "d4d49a56-93ee-4014-dbf1-e1076c68c375"
      },
      "execution_count": 32,
      "outputs": [
        {
          "output_type": "stream",
          "name": "stdout",
          "text": [
            "{'swapnil', True, 59}\n"
          ]
        }
      ]
    },
    {
      "cell_type": "code",
      "source": [
        "# example of ii) use case\n",
        "s = {\"swapnil\", \"arun\", \"bidkar\"}\n",
        "for swapnil in s:\n",
        "           print(\"yes\")\n",
        "\n",
        "else:\n",
        "           print(\"no\")\n",
        "\n",
        "\n",
        ""
      ],
      "metadata": {
        "colab": {
          "base_uri": "https://localhost:8080/"
        },
        "id": "eEBiGBQJqFyZ",
        "outputId": "c777e8f4-083b-405d-c0e1-687632c8e464"
      },
      "execution_count": 31,
      "outputs": [
        {
          "output_type": "stream",
          "name": "stdout",
          "text": [
            "yes\n",
            "yes\n",
            "yes\n",
            "no\n"
          ]
        }
      ]
    },
    {
      "cell_type": "code",
      "source": [
        "# example of iii) use case\n",
        "s = {\"swapnil\", (7,7,8,9,1,2),\"arun\", \"bidkar\"}\n",
        "print(s)\n",
        "\n",
        "\n"
      ],
      "metadata": {
        "colab": {
          "base_uri": "https://localhost:8080/"
        },
        "id": "An_Glf_vrk4C",
        "outputId": "a2226b55-e365-46d7-fa7a-33e35622315c"
      },
      "execution_count": 34,
      "outputs": [
        {
          "output_type": "stream",
          "name": "stdout",
          "text": [
            "{'swapnil', 'arun', 'bidkar', (7, 7, 8, 9, 1, 2)}\n"
          ]
        }
      ]
    },
    {
      "cell_type": "markdown",
      "source": [
        "Q7. describe how to add,modify , and delet items in a dictioary with example.\n",
        "\n",
        "i) how to add item in dic?\n",
        "\n",
        "adding an item to the dictionary is done by using a new index key and assigning a value to it.\n",
        "\n",
        "ii) how to modify item in dic?\n",
        "\n",
        "we can modify the value of a specific item by referring to its key name\n",
        "\n",
        "iii) how to delet item in dic?\n",
        "\n",
        "\n"
      ],
      "metadata": {
        "id": "4kcJpgIFvNoq"
      }
    },
    {
      "cell_type": "code",
      "source": [
        "#example of how to add item in dic?\n",
        "s = { \"name\": \"swapnil\", \"age\": 20 , \"city\": \"pune\", \"state\": \"maharashtra\"}\n",
        "s[\"country\"] = \"india\"\n",
        "print(s)\n"
      ],
      "metadata": {
        "colab": {
          "base_uri": "https://localhost:8080/"
        },
        "id": "WoYSEU_dxItM",
        "outputId": "bdd988c2-e1dc-4406-d4a2-9203a89bd0a3"
      },
      "execution_count": 38,
      "outputs": [
        {
          "output_type": "stream",
          "name": "stdout",
          "text": [
            "{'name': 'swapnil', 'age': 20, 'city': 'pune', 'state': 'maharashtra', 'country': 'india'}\n"
          ]
        }
      ]
    },
    {
      "cell_type": "code",
      "source": [
        "# example of how to modify item in dic?\n",
        "s = { \"name\": \"swapnil\", \"age\": 20 , \"city\": \"pune\", \"state\": \"maharashtra\"}\n",
        "s.update ({\"name\":\"kunal\"})\n",
        "print(s)"
      ],
      "metadata": {
        "colab": {
          "base_uri": "https://localhost:8080/"
        },
        "id": "YTA9vBCmxy7z",
        "outputId": "398cca2f-7ed3-44bd-9d48-1ebb897f59ba"
      },
      "execution_count": 40,
      "outputs": [
        {
          "output_type": "stream",
          "name": "stdout",
          "text": [
            "{'name': 'kunal', 'age': 20, 'city': 'pune', 'state': 'maharashtra'}\n"
          ]
        }
      ]
    },
    {
      "cell_type": "code",
      "source": [
        "# example of how to delet item in dic?\n",
        "s = { \"name\": \"swapnil\", \"age\": 20 , \"city\": \"pune\", \"state\": \"maharashtra\"}\n",
        "del s[\"name\"]\n",
        "print(s)"
      ],
      "metadata": {
        "colab": {
          "base_uri": "https://localhost:8080/"
        },
        "id": "I7ij3b8byjux",
        "outputId": "15d9821c-7986-4b21-c915-562bfc9bf0bc"
      },
      "execution_count": 41,
      "outputs": [
        {
          "output_type": "stream",
          "name": "stdout",
          "text": [
            "{'age': 20, 'city': 'pune', 'state': 'maharashtra'}\n"
          ]
        }
      ]
    },
    {
      "cell_type": "markdown",
      "source": [
        "Q8. discuss the importance of dictionary keys being immutable and provide example.\n",
        "\n",
        "\n",
        "importance of dictionary key being immutable.\n",
        "\n",
        "\n",
        "i) immutable keys insure that the dictionary will not be modified while it is being read.this is important because a dictionary is primarily concerned with looking up values and not modifying the data itself.\n",
        "\n",
        "ii) immutable keys help to prevent accidentally modifying a dictionary while it is eing read.\n",
        "\n",
        "iii) immutable keys help to preserve the integrity of the structure of the discionary itself which helps with reliability and efficiency of any application that contains a dictionary.\n",
        "\n",
        "\n",
        "\n",
        "\n",
        "\n",
        "\n",
        "\n",
        "\n",
        "\n",
        "\n",
        "\n",
        "\n",
        "\n",
        "\n",
        "\n",
        "\n",
        "\n",
        "\n",
        "\n",
        "\n",
        "\n",
        "\n",
        "\n",
        "\n",
        "\n",
        "\n"
      ],
      "metadata": {
        "id": "Yj1SLbRTzFNY"
      }
    },
    {
      "cell_type": "code",
      "source": [
        "\n",
        "s = {\"name\": \"swapnil\", \"age\": 20 , \"city\": \"pune\", \"state\": \"maharashtra\"}\n",
        "print(s)\n"
      ],
      "metadata": {
        "colab": {
          "base_uri": "https://localhost:8080/"
        },
        "id": "KlZcacTY3JH1",
        "outputId": "9996cc70-78a4-4cb5-fb0b-fdaa161c9fa8"
      },
      "execution_count": 42,
      "outputs": [
        {
          "output_type": "stream",
          "name": "stdout",
          "text": [
            "{'name': 'swapnil', 'age': 20, 'city': 'pune', 'state': 'maharashtra'}\n"
          ]
        }
      ]
    }
  ]
}